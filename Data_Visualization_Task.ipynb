{
  "nbformat": 4,
  "nbformat_minor": 0,
  "metadata": {
    "colab": {
      "name": "Data_Visualization_Task.ipynb",
      "provenance": [],
      "mount_file_id": "1X4CB37p7cczAu4n0S8dgDR8il5Ws_87R",
      "authorship_tag": "ABX9TyMrLA39JUiiYE1UYOEwTMIz",
      "include_colab_link": true
    },
    "kernelspec": {
      "name": "python3",
      "display_name": "Python 3"
    },
    "language_info": {
      "name": "python"
    }
  },
  "cells": [
    {
      "cell_type": "markdown",
      "metadata": {
        "id": "view-in-github",
        "colab_type": "text"
      },
      "source": [
        "<a href=\"https://colab.research.google.com/github/tarnveerSingh/Data_viz-Python/blob/main/Data_Visualization_Task.ipynb\" target=\"_parent\"><img src=\"https://colab.research.google.com/assets/colab-badge.svg\" alt=\"Open In Colab\"/></a>"
      ]
    },
    {
      "cell_type": "code",
      "metadata": {
        "colab": {
          "base_uri": "https://localhost:8080/"
        },
        "id": "vpEHyQxmONlD",
        "outputId": "56d2ac82-1150-4e99-ee0a-54d4962a0db9"
      },
      "source": [
        "from google.colab import drive\n",
        "drive.mount('/content/drive')"
      ],
      "execution_count": null,
      "outputs": [
        {
          "output_type": "stream",
          "name": "stdout",
          "text": [
            "Drive already mounted at /content/drive; to attempt to forcibly remount, call drive.mount(\"/content/drive\", force_remount=True).\n"
          ]
        }
      ]
    },
    {
      "cell_type": "code",
      "metadata": {
        "id": "qQj-btazwPMw",
        "colab": {
          "base_uri": "https://localhost:8080/",
          "height": 759
        },
        "outputId": "110e648a-f57e-4ae7-98fa-c75ca49dd6c1"
      },
      "source": [
        "import pandas as pd\n",
        "from datetime import datetime\n",
        "import numpy as np\n",
        "import matplotlib.pyplot as plt\n",
        "import plotly.express as px\n",
        "\n",
        "#data path\n",
        "data=pd.read_json(\"/content/drive/MyDrive/tech_test_3000.json\")\n",
        "data"
      ],
      "execution_count": null,
      "outputs": [
        {
          "output_type": "execute_result",
          "data": {
            "text/html": [
              "<div>\n",
              "<style scoped>\n",
              "    .dataframe tbody tr th:only-of-type {\n",
              "        vertical-align: middle;\n",
              "    }\n",
              "\n",
              "    .dataframe tbody tr th {\n",
              "        vertical-align: top;\n",
              "    }\n",
              "\n",
              "    .dataframe thead th {\n",
              "        text-align: right;\n",
              "    }\n",
              "</style>\n",
              "<table border=\"1\" class=\"dataframe\">\n",
              "  <thead>\n",
              "    <tr style=\"text-align: right;\">\n",
              "      <th></th>\n",
              "      <th>webRTCSession</th>\n",
              "      <th>serviceAgent</th>\n",
              "      <th>contact</th>\n",
              "      <th>callEndTime</th>\n",
              "      <th>callStartTime</th>\n",
              "    </tr>\n",
              "  </thead>\n",
              "  <tbody>\n",
              "    <tr>\n",
              "      <th>0</th>\n",
              "      <td>{'metrics': {'jitter': {'max': 123, 'avg': 13}...</td>\n",
              "      <td>{'interaction': {'totalDurationSec': 1517, 'ta...</td>\n",
              "      <td>{'id': '1f23ae97-3e54-44f7-8f13-711d01540b22',...</td>\n",
              "      <td>2021-08-29T03:03:58.547Z</td>\n",
              "      <td>2021-08-29T02:38:41.547Z</td>\n",
              "    </tr>\n",
              "    <tr>\n",
              "      <th>1</th>\n",
              "      <td>{'metrics': {'jitter': {'max': 131, 'avg': 13}...</td>\n",
              "      <td>{'interaction': {'totalDurationSec': 1295, 'ta...</td>\n",
              "      <td>{'id': '926882ef-490d-4fa5-b79b-05591aac3f49',...</td>\n",
              "      <td>2021-09-12T00:39:30.339Z</td>\n",
              "      <td>2021-09-12T00:17:55.339Z</td>\n",
              "    </tr>\n",
              "    <tr>\n",
              "      <th>2</th>\n",
              "      <td>{'metrics': {'jitter': {'max': 13, 'avg': 3}, ...</td>\n",
              "      <td>{'interaction': {'totalDurationSec': 3450, 'ta...</td>\n",
              "      <td>{'id': '580a1871-aabf-473d-aa0b-51513c56dd68',...</td>\n",
              "      <td>2021-09-04T03:38:51.360Z</td>\n",
              "      <td>2021-09-04T02:41:21.360Z</td>\n",
              "    </tr>\n",
              "    <tr>\n",
              "      <th>3</th>\n",
              "      <td>{'metrics': {'jitter': {'max': 73, 'avg': 2}, ...</td>\n",
              "      <td>{'interaction': {'totalDurationSec': 1731, 'ta...</td>\n",
              "      <td>{'id': '2b7e77e3-3732-4b1c-825d-567a08f3e682',...</td>\n",
              "      <td>2021-08-24T05:59:21.012Z</td>\n",
              "      <td>2021-08-24T05:30:30.012Z</td>\n",
              "    </tr>\n",
              "    <tr>\n",
              "      <th>4</th>\n",
              "      <td>{'metrics': {'jitter': {'max': 46, 'avg': 9}, ...</td>\n",
              "      <td>{'interaction': {'totalDurationSec': 3231, 'ta...</td>\n",
              "      <td>{'id': '1f22f4bd-774f-4edd-89a8-b1dccac32e01',...</td>\n",
              "      <td>2021-08-30T05:15:02.065Z</td>\n",
              "      <td>2021-08-30T04:21:11.065Z</td>\n",
              "    </tr>\n",
              "    <tr>\n",
              "      <th>...</th>\n",
              "      <td>...</td>\n",
              "      <td>...</td>\n",
              "      <td>...</td>\n",
              "      <td>...</td>\n",
              "      <td>...</td>\n",
              "    </tr>\n",
              "    <tr>\n",
              "      <th>2995</th>\n",
              "      <td>{'metrics': {'jitter': {'max': 26, 'avg': 6}, ...</td>\n",
              "      <td>{'interaction': {'totalDurationSec': 1635, 'ta...</td>\n",
              "      <td>{'id': '78016331-55ac-4062-8195-c12761f98d98',...</td>\n",
              "      <td>2021-09-02T00:45:19.652Z</td>\n",
              "      <td>2021-09-02T00:18:04.652Z</td>\n",
              "    </tr>\n",
              "    <tr>\n",
              "      <th>2996</th>\n",
              "      <td>{'metrics': {'jitter': {'max': 133, 'avg': 20}...</td>\n",
              "      <td>{'interaction': {'totalDurationSec': 4535, 'ta...</td>\n",
              "      <td>{'id': 'edf8dffa-c68e-4193-8179-25845b1e3b0b',...</td>\n",
              "      <td>2021-09-14T04:04:45.417Z</td>\n",
              "      <td>2021-09-14T02:49:10.417Z</td>\n",
              "    </tr>\n",
              "    <tr>\n",
              "      <th>2997</th>\n",
              "      <td>{'metrics': {'jitter': {'max': 52, 'avg': 13},...</td>\n",
              "      <td>{'interaction': {'totalDurationSec': 1708, 'ta...</td>\n",
              "      <td>{'id': '8c1e3ab7-99a1-458d-80f6-63ab630b4472',...</td>\n",
              "      <td>2021-09-11T02:24:26.868Z</td>\n",
              "      <td>2021-09-11T01:55:58.868Z</td>\n",
              "    </tr>\n",
              "    <tr>\n",
              "      <th>2998</th>\n",
              "      <td>{'metrics': {'jitter': {'max': 70, 'avg': 12},...</td>\n",
              "      <td>{'interaction': {'totalDurationSec': 6212, 'ta...</td>\n",
              "      <td>{'id': '0c6b39d1-781a-419a-880d-10d600a2a528',...</td>\n",
              "      <td>2021-09-13T00:27:50.296Z</td>\n",
              "      <td>2021-09-12T22:44:18.296Z</td>\n",
              "    </tr>\n",
              "    <tr>\n",
              "      <th>2999</th>\n",
              "      <td>{'metrics': {'jitter': {'max': 21, 'avg': 13},...</td>\n",
              "      <td>{'interaction': {'totalDurationSec': 2894, 'ta...</td>\n",
              "      <td>{'id': '38d53751-b5ff-45b3-b052-968eb7a21a8e',...</td>\n",
              "      <td>2021-08-19T07:39:06.891Z</td>\n",
              "      <td>2021-08-19T06:50:52.891Z</td>\n",
              "    </tr>\n",
              "  </tbody>\n",
              "</table>\n",
              "<p>3000 rows × 5 columns</p>\n",
              "</div>"
            ],
            "text/plain": [
              "                                          webRTCSession  ...             callStartTime\n",
              "0     {'metrics': {'jitter': {'max': 123, 'avg': 13}...  ...  2021-08-29T02:38:41.547Z\n",
              "1     {'metrics': {'jitter': {'max': 131, 'avg': 13}...  ...  2021-09-12T00:17:55.339Z\n",
              "2     {'metrics': {'jitter': {'max': 13, 'avg': 3}, ...  ...  2021-09-04T02:41:21.360Z\n",
              "3     {'metrics': {'jitter': {'max': 73, 'avg': 2}, ...  ...  2021-08-24T05:30:30.012Z\n",
              "4     {'metrics': {'jitter': {'max': 46, 'avg': 9}, ...  ...  2021-08-30T04:21:11.065Z\n",
              "...                                                 ...  ...                       ...\n",
              "2995  {'metrics': {'jitter': {'max': 26, 'avg': 6}, ...  ...  2021-09-02T00:18:04.652Z\n",
              "2996  {'metrics': {'jitter': {'max': 133, 'avg': 20}...  ...  2021-09-14T02:49:10.417Z\n",
              "2997  {'metrics': {'jitter': {'max': 52, 'avg': 13},...  ...  2021-09-11T01:55:58.868Z\n",
              "2998  {'metrics': {'jitter': {'max': 70, 'avg': 12},...  ...  2021-09-12T22:44:18.296Z\n",
              "2999  {'metrics': {'jitter': {'max': 21, 'avg': 13},...  ...  2021-08-19T06:50:52.891Z\n",
              "\n",
              "[3000 rows x 5 columns]"
            ]
          },
          "metadata": {},
          "execution_count": 111
        }
      ]
    },
    {
      "cell_type": "code",
      "metadata": {
        "colab": {
          "base_uri": "https://localhost:8080/"
        },
        "id": "WHG_fRIAyHFN",
        "outputId": "2873d518-7441-43c6-ee07-ca0c2558161a"
      },
      "source": [
        "len(data.callEndTime.unique())"
      ],
      "execution_count": null,
      "outputs": [
        {
          "output_type": "execute_result",
          "data": {
            "text/plain": [
              "3000"
            ]
          },
          "metadata": {},
          "execution_count": 112
        }
      ]
    },
    {
      "cell_type": "code",
      "metadata": {
        "colab": {
          "base_uri": "https://localhost:8080/",
          "height": 419
        },
        "id": "YNt8L8VFyMWJ",
        "outputId": "ad914838-cb7b-48eb-b044-7d2e361342fe"
      },
      "source": [
        "#json normalize\n",
        "agents = pd.json_normalize(data['serviceAgent'])\n",
        "agents.head(3)\n",
        "#assigning agents time\n",
        "agents['callEndTime']=data['callEndTime']\n",
        "agents['callStartTime']=data['callStartTime']\n",
        "#assigning a new variable and extracting only these three columns from 2500 rows\n",
        "agents_processed_2500=agents[['username','callEndTime','callStartTime']].iloc[:2500]\n",
        "agents_processed_2500.sort_values(by=\"callStartTime\")"
      ],
      "execution_count": null,
      "outputs": [
        {
          "output_type": "execute_result",
          "data": {
            "text/html": [
              "<div>\n",
              "<style scoped>\n",
              "    .dataframe tbody tr th:only-of-type {\n",
              "        vertical-align: middle;\n",
              "    }\n",
              "\n",
              "    .dataframe tbody tr th {\n",
              "        vertical-align: top;\n",
              "    }\n",
              "\n",
              "    .dataframe thead th {\n",
              "        text-align: right;\n",
              "    }\n",
              "</style>\n",
              "<table border=\"1\" class=\"dataframe\">\n",
              "  <thead>\n",
              "    <tr style=\"text-align: right;\">\n",
              "      <th></th>\n",
              "      <th>username</th>\n",
              "      <th>callEndTime</th>\n",
              "      <th>callStartTime</th>\n",
              "    </tr>\n",
              "  </thead>\n",
              "  <tbody>\n",
              "    <tr>\n",
              "      <th>1636</th>\n",
              "      <td>Keely.Bernier</td>\n",
              "      <td>2021-08-14T22:18:08.986Z</td>\n",
              "      <td>2021-08-14T20:30:03.986Z</td>\n",
              "    </tr>\n",
              "    <tr>\n",
              "      <th>2076</th>\n",
              "      <td>Juliana.Pfeffer</td>\n",
              "      <td>2021-08-14T23:04:06.845Z</td>\n",
              "      <td>2021-08-14T21:10:51.845Z</td>\n",
              "    </tr>\n",
              "    <tr>\n",
              "      <th>1294</th>\n",
              "      <td>Lysanne.Kuhic</td>\n",
              "      <td>2021-08-14T22:52:20.079Z</td>\n",
              "      <td>2021-08-14T21:40:58.079Z</td>\n",
              "    </tr>\n",
              "    <tr>\n",
              "      <th>2322</th>\n",
              "      <td>Monroe.Parisian</td>\n",
              "      <td>2021-08-14T23:43:48.978Z</td>\n",
              "      <td>2021-08-14T21:46:58.978Z</td>\n",
              "    </tr>\n",
              "    <tr>\n",
              "      <th>647</th>\n",
              "      <td>Abe.Will</td>\n",
              "      <td>2021-08-14T22:33:38.884Z</td>\n",
              "      <td>2021-08-14T21:51:49.884Z</td>\n",
              "    </tr>\n",
              "    <tr>\n",
              "      <th>...</th>\n",
              "      <td>...</td>\n",
              "      <td>...</td>\n",
              "      <td>...</td>\n",
              "    </tr>\n",
              "    <tr>\n",
              "      <th>1166</th>\n",
              "      <td>Rasheed.Boyle</td>\n",
              "      <td>2021-09-14T05:59:56.674Z</td>\n",
              "      <td>2021-09-14T05:30:06.674Z</td>\n",
              "    </tr>\n",
              "    <tr>\n",
              "      <th>1564</th>\n",
              "      <td>Crawford.Franecki</td>\n",
              "      <td>2021-09-14T07:09:19.740Z</td>\n",
              "      <td>2021-09-14T05:51:05.740Z</td>\n",
              "    </tr>\n",
              "    <tr>\n",
              "      <th>1966</th>\n",
              "      <td>Reva.Grant</td>\n",
              "      <td>2021-09-14T06:19:08.037Z</td>\n",
              "      <td>2021-09-14T05:54:50.037Z</td>\n",
              "    </tr>\n",
              "    <tr>\n",
              "      <th>2419</th>\n",
              "      <td>Natasha.Baumbach</td>\n",
              "      <td>2021-09-14T07:17:14.918Z</td>\n",
              "      <td>2021-09-14T06:22:23.918Z</td>\n",
              "    </tr>\n",
              "    <tr>\n",
              "      <th>93</th>\n",
              "      <td>Lempi.Torp</td>\n",
              "      <td>2021-09-14T07:08:34.890Z</td>\n",
              "      <td>2021-09-14T06:22:37.890Z</td>\n",
              "    </tr>\n",
              "  </tbody>\n",
              "</table>\n",
              "<p>2500 rows × 3 columns</p>\n",
              "</div>"
            ],
            "text/plain": [
              "               username               callEndTime             callStartTime\n",
              "1636      Keely.Bernier  2021-08-14T22:18:08.986Z  2021-08-14T20:30:03.986Z\n",
              "2076    Juliana.Pfeffer  2021-08-14T23:04:06.845Z  2021-08-14T21:10:51.845Z\n",
              "1294      Lysanne.Kuhic  2021-08-14T22:52:20.079Z  2021-08-14T21:40:58.079Z\n",
              "2322    Monroe.Parisian  2021-08-14T23:43:48.978Z  2021-08-14T21:46:58.978Z\n",
              "647            Abe.Will  2021-08-14T22:33:38.884Z  2021-08-14T21:51:49.884Z\n",
              "...                 ...                       ...                       ...\n",
              "1166      Rasheed.Boyle  2021-09-14T05:59:56.674Z  2021-09-14T05:30:06.674Z\n",
              "1564  Crawford.Franecki  2021-09-14T07:09:19.740Z  2021-09-14T05:51:05.740Z\n",
              "1966         Reva.Grant  2021-09-14T06:19:08.037Z  2021-09-14T05:54:50.037Z\n",
              "2419   Natasha.Baumbach  2021-09-14T07:17:14.918Z  2021-09-14T06:22:23.918Z\n",
              "93           Lempi.Torp  2021-09-14T07:08:34.890Z  2021-09-14T06:22:37.890Z\n",
              "\n",
              "[2500 rows x 3 columns]"
            ]
          },
          "metadata": {},
          "execution_count": 138
        }
      ]
    },
    {
      "cell_type": "code",
      "metadata": {
        "id": "zF75fwh5yZzd"
      },
      "source": [
        "agents_processed_2500.to_csv(\"Agent_data_2500.csv\")\n",
        "# print(\"Agents\")\n",
        "# len(agents_processed_2500.username.unique())"
      ],
      "execution_count": null,
      "outputs": []
    },
    {
      "cell_type": "code",
      "metadata": {
        "colab": {
          "base_uri": "https://localhost:8080/"
        },
        "id": "m2k-5fnoytXF",
        "outputId": "567bc45f-1597-4c60-a092-a356586ac539"
      },
      "source": [
        "agents_processed_2500=agents_processed_2500.sort_values(by='callStartTime')\n",
        "print(\"types\")\n",
        "agents_processed_2500.dtypes"
      ],
      "execution_count": null,
      "outputs": [
        {
          "output_type": "stream",
          "name": "stdout",
          "text": [
            "types\n"
          ]
        },
        {
          "output_type": "execute_result",
          "data": {
            "text/plain": [
              "username         object\n",
              "callEndTime      object\n",
              "callStartTime    object\n",
              "dtype: object"
            ]
          },
          "metadata": {},
          "execution_count": 140
        }
      ]
    },
    {
      "cell_type": "code",
      "metadata": {
        "id": "VVhkVwCPy6Du"
      },
      "source": [
        "#removing Strings from callStartTime and CallEndTime\n",
        "agents_processed_2500['callStartTime'] = agents_processed_2500['callStartTime'].str.replace('T',' ')\n",
        "agents_processed_2500['callStartTime'] = agents_processed_2500['callStartTime'].str.replace('Z','')\n",
        "agents_processed_2500['callEndTime'] = agents_processed_2500['callEndTime'].str.replace('T',' ')\n",
        "agents_processed_2500['callEndTime'] = agents_processed_2500['callEndTime'].str.replace('Z','')"
      ],
      "execution_count": null,
      "outputs": []
    },
    {
      "cell_type": "code",
      "metadata": {
        "colab": {
          "base_uri": "https://localhost:8080/",
          "height": 419
        },
        "id": "UGn4uKJUzGVU",
        "outputId": "30a0ccc2-14bd-4494-a2a5-c99c4f489093"
      },
      "source": [
        "# converting into date and time\n",
        "agents_processed_2500['callEndTime']=pd.to_datetime(agents_processed_2500['callEndTime'], format='%Y-%m-%d %H:%M:%S')\n",
        "agents_processed_2500['callEndTime']=pd.to_datetime(agents_processed_2500['callEndTime'], format='%Y-%m-%d %H:%M:%S')\n",
        "#sorting agents based on callStartTime\n",
        "agents_processed_2500=agents_processed_2500.sort_values(by=\"callStartTime\")\n",
        "agents_processed_2500"
      ],
      "execution_count": null,
      "outputs": [
        {
          "output_type": "execute_result",
          "data": {
            "text/html": [
              "<div>\n",
              "<style scoped>\n",
              "    .dataframe tbody tr th:only-of-type {\n",
              "        vertical-align: middle;\n",
              "    }\n",
              "\n",
              "    .dataframe tbody tr th {\n",
              "        vertical-align: top;\n",
              "    }\n",
              "\n",
              "    .dataframe thead th {\n",
              "        text-align: right;\n",
              "    }\n",
              "</style>\n",
              "<table border=\"1\" class=\"dataframe\">\n",
              "  <thead>\n",
              "    <tr style=\"text-align: right;\">\n",
              "      <th></th>\n",
              "      <th>username</th>\n",
              "      <th>callEndTime</th>\n",
              "      <th>callStartTime</th>\n",
              "    </tr>\n",
              "  </thead>\n",
              "  <tbody>\n",
              "    <tr>\n",
              "      <th>1636</th>\n",
              "      <td>Keely.Bernier</td>\n",
              "      <td>2021-08-14 22:18:08.986</td>\n",
              "      <td>2021-08-14 20:30:03.986</td>\n",
              "    </tr>\n",
              "    <tr>\n",
              "      <th>2076</th>\n",
              "      <td>Juliana.Pfeffer</td>\n",
              "      <td>2021-08-14 23:04:06.845</td>\n",
              "      <td>2021-08-14 21:10:51.845</td>\n",
              "    </tr>\n",
              "    <tr>\n",
              "      <th>1294</th>\n",
              "      <td>Lysanne.Kuhic</td>\n",
              "      <td>2021-08-14 22:52:20.079</td>\n",
              "      <td>2021-08-14 21:40:58.079</td>\n",
              "    </tr>\n",
              "    <tr>\n",
              "      <th>2322</th>\n",
              "      <td>Monroe.Parisian</td>\n",
              "      <td>2021-08-14 23:43:48.978</td>\n",
              "      <td>2021-08-14 21:46:58.978</td>\n",
              "    </tr>\n",
              "    <tr>\n",
              "      <th>647</th>\n",
              "      <td>Abe.Will</td>\n",
              "      <td>2021-08-14 22:33:38.884</td>\n",
              "      <td>2021-08-14 21:51:49.884</td>\n",
              "    </tr>\n",
              "    <tr>\n",
              "      <th>...</th>\n",
              "      <td>...</td>\n",
              "      <td>...</td>\n",
              "      <td>...</td>\n",
              "    </tr>\n",
              "    <tr>\n",
              "      <th>1166</th>\n",
              "      <td>Rasheed.Boyle</td>\n",
              "      <td>2021-09-14 05:59:56.674</td>\n",
              "      <td>2021-09-14 05:30:06.674</td>\n",
              "    </tr>\n",
              "    <tr>\n",
              "      <th>1564</th>\n",
              "      <td>Crawford.Franecki</td>\n",
              "      <td>2021-09-14 07:09:19.740</td>\n",
              "      <td>2021-09-14 05:51:05.740</td>\n",
              "    </tr>\n",
              "    <tr>\n",
              "      <th>1966</th>\n",
              "      <td>Reva.Grant</td>\n",
              "      <td>2021-09-14 06:19:08.037</td>\n",
              "      <td>2021-09-14 05:54:50.037</td>\n",
              "    </tr>\n",
              "    <tr>\n",
              "      <th>2419</th>\n",
              "      <td>Natasha.Baumbach</td>\n",
              "      <td>2021-09-14 07:17:14.918</td>\n",
              "      <td>2021-09-14 06:22:23.918</td>\n",
              "    </tr>\n",
              "    <tr>\n",
              "      <th>93</th>\n",
              "      <td>Lempi.Torp</td>\n",
              "      <td>2021-09-14 07:08:34.890</td>\n",
              "      <td>2021-09-14 06:22:37.890</td>\n",
              "    </tr>\n",
              "  </tbody>\n",
              "</table>\n",
              "<p>2500 rows × 3 columns</p>\n",
              "</div>"
            ],
            "text/plain": [
              "               username             callEndTime            callStartTime\n",
              "1636      Keely.Bernier 2021-08-14 22:18:08.986  2021-08-14 20:30:03.986\n",
              "2076    Juliana.Pfeffer 2021-08-14 23:04:06.845  2021-08-14 21:10:51.845\n",
              "1294      Lysanne.Kuhic 2021-08-14 22:52:20.079  2021-08-14 21:40:58.079\n",
              "2322    Monroe.Parisian 2021-08-14 23:43:48.978  2021-08-14 21:46:58.978\n",
              "647            Abe.Will 2021-08-14 22:33:38.884  2021-08-14 21:51:49.884\n",
              "...                 ...                     ...                      ...\n",
              "1166      Rasheed.Boyle 2021-09-14 05:59:56.674  2021-09-14 05:30:06.674\n",
              "1564  Crawford.Franecki 2021-09-14 07:09:19.740  2021-09-14 05:51:05.740\n",
              "1966         Reva.Grant 2021-09-14 06:19:08.037  2021-09-14 05:54:50.037\n",
              "2419   Natasha.Baumbach 2021-09-14 07:17:14.918  2021-09-14 06:22:23.918\n",
              "93           Lempi.Torp 2021-09-14 07:08:34.890  2021-09-14 06:22:37.890\n",
              "\n",
              "[2500 rows x 3 columns]"
            ]
          },
          "metadata": {},
          "execution_count": 117
        }
      ]
    },
    {
      "cell_type": "code",
      "metadata": {
        "colab": {
          "base_uri": "https://localhost:8080/"
        },
        "id": "u9jsEynZzVh8",
        "outputId": "d0b45c52-f52d-4c6f-92a9-4e8b7967e112"
      },
      "source": [
        "#determing based on input start_datetime and end_datetime\n",
        "start_datetime=input('Enter Start Date Time (YYYY-MM-DD) & (HH-MM-SS): ')\n",
        "end_datetime=input('Enter End Date Time (YYYY-MM-DD) & (HH-MM-SS): ')"
      ],
      "execution_count": null,
      "outputs": [
        {
          "name": "stdout",
          "output_type": "stream",
          "text": [
            "Enter Start Date Time (YYYY-MM-DD) & (HH-MM-SS): 2021-08-14 20:30\n",
            "Enter End Date Time (YYYY-MM-DD) & (HH-MM-SS): 2021-08-28 20:30\n"
          ]
        }
      ]
    },
    {
      "cell_type": "code",
      "metadata": {
        "id": "I0BKBN0U0IdR",
        "colab": {
          "base_uri": "https://localhost:8080/",
          "height": 419
        },
        "outputId": "a1ad427e-9c1d-4617-c086-fa9c8dfd7de4"
      },
      "source": [
        "#filter data as per input\n",
        "agents_processed_2500_plot=agents_processed_2500.loc[(agents_processed_2500['callStartTime']>=start_datetime) & \n",
        "(agents_processed_2500['callEndTime']<=end_datetime)]\n",
        "# Sorting agents based on callStartTime\n",
        "agents_processed_2500=agents_processed_2500.sort_values(by=\"callStartTime\")\n",
        "#print\n",
        "agents_processed_2500"
      ],
      "execution_count": null,
      "outputs": [
        {
          "output_type": "execute_result",
          "data": {
            "text/html": [
              "<div>\n",
              "<style scoped>\n",
              "    .dataframe tbody tr th:only-of-type {\n",
              "        vertical-align: middle;\n",
              "    }\n",
              "\n",
              "    .dataframe tbody tr th {\n",
              "        vertical-align: top;\n",
              "    }\n",
              "\n",
              "    .dataframe thead th {\n",
              "        text-align: right;\n",
              "    }\n",
              "</style>\n",
              "<table border=\"1\" class=\"dataframe\">\n",
              "  <thead>\n",
              "    <tr style=\"text-align: right;\">\n",
              "      <th></th>\n",
              "      <th>username</th>\n",
              "      <th>callEndTime</th>\n",
              "      <th>callStartTime</th>\n",
              "    </tr>\n",
              "  </thead>\n",
              "  <tbody>\n",
              "    <tr>\n",
              "      <th>1636</th>\n",
              "      <td>Keely.Bernier</td>\n",
              "      <td>2021-08-14 22:18:08.986</td>\n",
              "      <td>2021-08-14 20:30:03.986</td>\n",
              "    </tr>\n",
              "    <tr>\n",
              "      <th>2076</th>\n",
              "      <td>Juliana.Pfeffer</td>\n",
              "      <td>2021-08-14 23:04:06.845</td>\n",
              "      <td>2021-08-14 21:10:51.845</td>\n",
              "    </tr>\n",
              "    <tr>\n",
              "      <th>1294</th>\n",
              "      <td>Lysanne.Kuhic</td>\n",
              "      <td>2021-08-14 22:52:20.079</td>\n",
              "      <td>2021-08-14 21:40:58.079</td>\n",
              "    </tr>\n",
              "    <tr>\n",
              "      <th>2322</th>\n",
              "      <td>Monroe.Parisian</td>\n",
              "      <td>2021-08-14 23:43:48.978</td>\n",
              "      <td>2021-08-14 21:46:58.978</td>\n",
              "    </tr>\n",
              "    <tr>\n",
              "      <th>647</th>\n",
              "      <td>Abe.Will</td>\n",
              "      <td>2021-08-14 22:33:38.884</td>\n",
              "      <td>2021-08-14 21:51:49.884</td>\n",
              "    </tr>\n",
              "    <tr>\n",
              "      <th>...</th>\n",
              "      <td>...</td>\n",
              "      <td>...</td>\n",
              "      <td>...</td>\n",
              "    </tr>\n",
              "    <tr>\n",
              "      <th>1166</th>\n",
              "      <td>Rasheed.Boyle</td>\n",
              "      <td>2021-09-14 05:59:56.674</td>\n",
              "      <td>2021-09-14 05:30:06.674</td>\n",
              "    </tr>\n",
              "    <tr>\n",
              "      <th>1564</th>\n",
              "      <td>Crawford.Franecki</td>\n",
              "      <td>2021-09-14 07:09:19.740</td>\n",
              "      <td>2021-09-14 05:51:05.740</td>\n",
              "    </tr>\n",
              "    <tr>\n",
              "      <th>1966</th>\n",
              "      <td>Reva.Grant</td>\n",
              "      <td>2021-09-14 06:19:08.037</td>\n",
              "      <td>2021-09-14 05:54:50.037</td>\n",
              "    </tr>\n",
              "    <tr>\n",
              "      <th>2419</th>\n",
              "      <td>Natasha.Baumbach</td>\n",
              "      <td>2021-09-14 07:17:14.918</td>\n",
              "      <td>2021-09-14 06:22:23.918</td>\n",
              "    </tr>\n",
              "    <tr>\n",
              "      <th>93</th>\n",
              "      <td>Lempi.Torp</td>\n",
              "      <td>2021-09-14 07:08:34.890</td>\n",
              "      <td>2021-09-14 06:22:37.890</td>\n",
              "    </tr>\n",
              "  </tbody>\n",
              "</table>\n",
              "<p>2500 rows × 3 columns</p>\n",
              "</div>"
            ],
            "text/plain": [
              "               username             callEndTime            callStartTime\n",
              "1636      Keely.Bernier 2021-08-14 22:18:08.986  2021-08-14 20:30:03.986\n",
              "2076    Juliana.Pfeffer 2021-08-14 23:04:06.845  2021-08-14 21:10:51.845\n",
              "1294      Lysanne.Kuhic 2021-08-14 22:52:20.079  2021-08-14 21:40:58.079\n",
              "2322    Monroe.Parisian 2021-08-14 23:43:48.978  2021-08-14 21:46:58.978\n",
              "647            Abe.Will 2021-08-14 22:33:38.884  2021-08-14 21:51:49.884\n",
              "...                 ...                     ...                      ...\n",
              "1166      Rasheed.Boyle 2021-09-14 05:59:56.674  2021-09-14 05:30:06.674\n",
              "1564  Crawford.Franecki 2021-09-14 07:09:19.740  2021-09-14 05:51:05.740\n",
              "1966         Reva.Grant 2021-09-14 06:19:08.037  2021-09-14 05:54:50.037\n",
              "2419   Natasha.Baumbach 2021-09-14 07:17:14.918  2021-09-14 06:22:23.918\n",
              "93           Lempi.Torp 2021-09-14 07:08:34.890  2021-09-14 06:22:37.890\n",
              "\n",
              "[2500 rows x 3 columns]"
            ]
          },
          "metadata": {},
          "execution_count": 129
        }
      ]
    },
    {
      "cell_type": "code",
      "metadata": {
        "id": "k6vLKw2V0ZMk",
        "colab": {
          "base_uri": "https://localhost:8080/",
          "height": 711
        },
        "outputId": "9e36faa9-88b3-4d48-e816-3fca5b1e9029"
      },
      "source": [
        "# getting start and finish Time (Hourly) and assign them as well\n",
        "agents_processed_2500_plot['start_hour'] = pd.to_datetime(agents_processed_2500_plot['callStartTime']).dt.hour\n",
        "agents_processed_2500_plot['end_hour'] = pd.to_datetime(agents_processed_2500_plot['callEndTime']).dt.hour\n",
        "#sorting the value based on start_hour only\n",
        "agents_processed_2500_plot=agents_processed_2500_plot.sort_values(by=\"start_hour\")\n",
        "agents_processed_2500_plot"
      ],
      "execution_count": null,
      "outputs": [
        {
          "output_type": "stream",
          "name": "stderr",
          "text": [
            "/usr/local/lib/python3.7/dist-packages/ipykernel_launcher.py:2: SettingWithCopyWarning:\n",
            "\n",
            "\n",
            "A value is trying to be set on a copy of a slice from a DataFrame.\n",
            "Try using .loc[row_indexer,col_indexer] = value instead\n",
            "\n",
            "See the caveats in the documentation: https://pandas.pydata.org/pandas-docs/stable/user_guide/indexing.html#returning-a-view-versus-a-copy\n",
            "\n",
            "/usr/local/lib/python3.7/dist-packages/ipykernel_launcher.py:3: SettingWithCopyWarning:\n",
            "\n",
            "\n",
            "A value is trying to be set on a copy of a slice from a DataFrame.\n",
            "Try using .loc[row_indexer,col_indexer] = value instead\n",
            "\n",
            "See the caveats in the documentation: https://pandas.pydata.org/pandas-docs/stable/user_guide/indexing.html#returning-a-view-versus-a-copy\n",
            "\n"
          ]
        },
        {
          "output_type": "execute_result",
          "data": {
            "text/html": [
              "<div>\n",
              "<style scoped>\n",
              "    .dataframe tbody tr th:only-of-type {\n",
              "        vertical-align: middle;\n",
              "    }\n",
              "\n",
              "    .dataframe tbody tr th {\n",
              "        vertical-align: top;\n",
              "    }\n",
              "\n",
              "    .dataframe thead th {\n",
              "        text-align: right;\n",
              "    }\n",
              "</style>\n",
              "<table border=\"1\" class=\"dataframe\">\n",
              "  <thead>\n",
              "    <tr style=\"text-align: right;\">\n",
              "      <th></th>\n",
              "      <th>username</th>\n",
              "      <th>callEndTime</th>\n",
              "      <th>callStartTime</th>\n",
              "      <th>start_hour</th>\n",
              "      <th>end_hour</th>\n",
              "    </tr>\n",
              "  </thead>\n",
              "  <tbody>\n",
              "    <tr>\n",
              "      <th>2249</th>\n",
              "      <td>Jarred.Upton</td>\n",
              "      <td>2021-08-24 01:32:58.619</td>\n",
              "      <td>2021-08-24 00:04:22.619</td>\n",
              "      <td>0</td>\n",
              "      <td>1</td>\n",
              "    </tr>\n",
              "    <tr>\n",
              "      <th>1523</th>\n",
              "      <td>Kory.Roob</td>\n",
              "      <td>2021-08-18 01:39:40.500</td>\n",
              "      <td>2021-08-18 00:45:35.500</td>\n",
              "      <td>0</td>\n",
              "      <td>1</td>\n",
              "    </tr>\n",
              "    <tr>\n",
              "      <th>1085</th>\n",
              "      <td>Amalia.Schinner</td>\n",
              "      <td>2021-08-18 02:18:34.706</td>\n",
              "      <td>2021-08-18 00:42:39.706</td>\n",
              "      <td>0</td>\n",
              "      <td>2</td>\n",
              "    </tr>\n",
              "    <tr>\n",
              "      <th>1592</th>\n",
              "      <td>Shemar.Conroy</td>\n",
              "      <td>2021-08-18 01:11:25.824</td>\n",
              "      <td>2021-08-18 00:40:02.824</td>\n",
              "      <td>0</td>\n",
              "      <td>1</td>\n",
              "    </tr>\n",
              "    <tr>\n",
              "      <th>1034</th>\n",
              "      <td>Danika.Flatley</td>\n",
              "      <td>2021-08-18 01:24:01.727</td>\n",
              "      <td>2021-08-18 00:32:48.727</td>\n",
              "      <td>0</td>\n",
              "      <td>1</td>\n",
              "    </tr>\n",
              "    <tr>\n",
              "      <th>...</th>\n",
              "      <td>...</td>\n",
              "      <td>...</td>\n",
              "      <td>...</td>\n",
              "      <td>...</td>\n",
              "      <td>...</td>\n",
              "    </tr>\n",
              "    <tr>\n",
              "      <th>166</th>\n",
              "      <td>Baron.Wisozk</td>\n",
              "      <td>2021-08-24 01:16:00.017</td>\n",
              "      <td>2021-08-23 23:54:29.017</td>\n",
              "      <td>23</td>\n",
              "      <td>1</td>\n",
              "    </tr>\n",
              "    <tr>\n",
              "      <th>1252</th>\n",
              "      <td>Stevie.Weimann</td>\n",
              "      <td>2021-08-23 01:40:40.093</td>\n",
              "      <td>2021-08-22 23:56:54.093</td>\n",
              "      <td>23</td>\n",
              "      <td>1</td>\n",
              "    </tr>\n",
              "    <tr>\n",
              "      <th>2068</th>\n",
              "      <td>Vida.Farrell</td>\n",
              "      <td>2021-08-25 23:50:10.125</td>\n",
              "      <td>2021-08-25 23:16:36.125</td>\n",
              "      <td>23</td>\n",
              "      <td>23</td>\n",
              "    </tr>\n",
              "    <tr>\n",
              "      <th>2478</th>\n",
              "      <td>Adele.McCullough</td>\n",
              "      <td>2021-08-26 00:40:46.805</td>\n",
              "      <td>2021-08-25 23:32:05.805</td>\n",
              "      <td>23</td>\n",
              "      <td>0</td>\n",
              "    </tr>\n",
              "    <tr>\n",
              "      <th>1079</th>\n",
              "      <td>Lucienne.Bogisich</td>\n",
              "      <td>2021-08-26 00:25:10.789</td>\n",
              "      <td>2021-08-25 23:12:18.789</td>\n",
              "      <td>23</td>\n",
              "      <td>0</td>\n",
              "    </tr>\n",
              "  </tbody>\n",
              "</table>\n",
              "<p>1077 rows × 5 columns</p>\n",
              "</div>"
            ],
            "text/plain": [
              "               username             callEndTime  ... start_hour  end_hour\n",
              "2249       Jarred.Upton 2021-08-24 01:32:58.619  ...          0         1\n",
              "1523          Kory.Roob 2021-08-18 01:39:40.500  ...          0         1\n",
              "1085    Amalia.Schinner 2021-08-18 02:18:34.706  ...          0         2\n",
              "1592      Shemar.Conroy 2021-08-18 01:11:25.824  ...          0         1\n",
              "1034     Danika.Flatley 2021-08-18 01:24:01.727  ...          0         1\n",
              "...                 ...                     ...  ...        ...       ...\n",
              "166        Baron.Wisozk 2021-08-24 01:16:00.017  ...         23         1\n",
              "1252     Stevie.Weimann 2021-08-23 01:40:40.093  ...         23         1\n",
              "2068       Vida.Farrell 2021-08-25 23:50:10.125  ...         23        23\n",
              "2478   Adele.McCullough 2021-08-26 00:40:46.805  ...         23         0\n",
              "1079  Lucienne.Bogisich 2021-08-26 00:25:10.789  ...         23         0\n",
              "\n",
              "[1077 rows x 5 columns]"
            ]
          },
          "metadata": {},
          "execution_count": 130
        }
      ]
    },
    {
      "cell_type": "code",
      "metadata": {
        "id": "wbg1zYHG0Z32"
      },
      "source": [
        "# len(agents_processed_2500_plot)"
      ],
      "execution_count": null,
      "outputs": []
    },
    {
      "cell_type": "code",
      "metadata": {
        "colab": {
          "base_uri": "https://localhost:8080/"
        },
        "id": "Lk_jHwGj0tCF",
        "outputId": "a177b51c-9a63-4e15-aa96-2ea94471a3b1"
      },
      "source": [
        "#extracting unique start and end hours\n",
        "l1= agents_processed_2500_plot.start_hour.unique() \n",
        "l2=agents_processed_2500_plot.end_hour.unique()\n",
        "#joining them\n",
        "joinedlist=[*l1, *l2]\n",
        "#np\n",
        "print(\"joined\")\n",
        "joinedlist=np.unique(joinedlist)\n",
        "joinedlist"
      ],
      "execution_count": null,
      "outputs": [
        {
          "output_type": "stream",
          "name": "stdout",
          "text": [
            "joined\n"
          ]
        },
        {
          "output_type": "execute_result",
          "data": {
            "text/plain": [
              "array([ 0,  1,  2,  3,  4,  5,  6,  7, 20, 21, 22, 23])"
            ]
          },
          "metadata": {},
          "execution_count": 132
        }
      ]
    },
    {
      "cell_type": "code",
      "metadata": {
        "id": "b0mq1CfJ3YTP"
      },
      "source": [
        "# naming two list for counting hours and counting agents \n",
        "l_hour=[]\n",
        "l_count=[]\n",
        "#calculating number of agents for each hour\n",
        "for i in joinedlist:\n",
        "    temp=agents_processed_2500_plot.loc[(agents_processed_2500_plot['start_hour']==i) | \n",
        "                                      (agents_processed_2500_plot['end_hour']==i)]\n",
        "    l_hour.append(i)\n",
        "    l_count.append(len(temp.username.unique()))\n",
        "    "
      ],
      "execution_count": null,
      "outputs": []
    },
    {
      "cell_type": "code",
      "metadata": {
        "colab": {
          "base_uri": "https://localhost:8080/",
          "height": 555
        },
        "id": "zKOFiVCP3dkq",
        "outputId": "8b0e16d2-bf50-4310-8604-82896ed95b1b"
      },
      "source": [
        "#zip two listing in df\n",
        "df = pd.DataFrame(list(zip(l_hour, l_count)),\n",
        "               columns =['Hour', 'Agent_Count'])\n",
        "print(\"dataFrame\")\n",
        "print(df)\n",
        "\n",
        "print(\"GRAPH\")\n",
        "plt.plot(df.Hour,df.Agent_Count)\n",
        "plt.xlabel('Hour',fontsize=15)\n",
        "plt.ylabel('Number of Active Agents',fontsize=15)\n",
        "plt.title('Start time: '+str(start_datetime)+\"End Time: \"+str(end_datetime))\n",
        "plt.show()"
      ],
      "execution_count": null,
      "outputs": [
        {
          "output_type": "stream",
          "name": "stdout",
          "text": [
            "dataFrame\n",
            "    Hour  Agent_Count\n",
            "0      0          176\n",
            "1      1          179\n",
            "2      2          186\n",
            "3      3          201\n",
            "4      4          188\n",
            "5      5          201\n",
            "6      6          165\n",
            "7      7          109\n",
            "8     20           39\n",
            "9     21           83\n",
            "10    22          191\n",
            "11    23          174\n",
            "GRAPH\n"
          ]
        },
        {
          "output_type": "display_data",
          "data": {
            "image/png": "[encoded data removed]",
            "text/plain": [
              "<Figure size 432x288 with 1 Axes>"
            ]
          },
          "metadata": {
            "needs_background": "light"
          }
        }
      ]
    },
    {
      "cell_type": "code",
      "metadata": {
        "colab": {
          "base_uri": "https://localhost:8080/",
          "height": 559
        },
        "id": "9pu-TlOFAt8-",
        "outputId": "0a33c38b-1bd8-4acd-cb58-99fdfbdbd56f"
      },
      "source": [
        "print(\"graph using plotly ex\")\n",
        "fig = px.line(df, x=\"Hour\", y=\"Agent_Count\", title='Start time: '+str(start_datetime)+\" End Time: \"+str(end_datetime))\n",
        "fig.write_html(\"Agent_Count_By_Hour.html\")\n",
        "fig.show()"
      ],
      "execution_count": null,
      "outputs": [
        {
          "output_type": "stream",
          "name": "stdout",
          "text": [
            "graph using plotly ex\n"
          ]
        },
        {
          "output_type": "display_data",
          "data": {
            "text/html": [
              "<html>\n",
              "<head><meta charset=\"utf-8\" /></head>\n",
              "<body>\n",
              "    <div>\n",
              "            <script src=\"https://cdnjs.cloudflare.com/ajax/libs/mathjax/2.7.5/MathJax.js?config=TeX-AMS-MML_SVG\"></script><script type=\"text/javascript\">if (window.MathJax) {MathJax.Hub.Config({SVG: {font: \"STIX-Web\"}});}</script>\n",
              "                <script type=\"text/javascript\">window.PlotlyConfig = {MathJaxConfig: 'local'};</script>\n",
              "        <script src=\"https://cdn.plot.ly/plotly-latest.min.js\"></script>    \n",
              "            <div id=\"49d3c0b0-cc91-409d-a08a-f75b24dc702f\" class=\"plotly-graph-div\" style=\"height:525px; width:100%;\"></div>\n",
              "            <script type=\"text/javascript\">\n",
              "                \n",
              "                    window.PLOTLYENV=window.PLOTLYENV || {};\n",
              "                    \n",
              "                if (document.getElementById(\"49d3c0b0-cc91-409d-a08a-f75b24dc702f\")) {\n",
              "                    Plotly.newPlot(\n",
              "                        '49d3c0b0-cc91-409d-a08a-f75b24dc702f',\n",
              "                        [{\"hoverlabel\": {\"namelength\": 0}, \"hovertemplate\": \"Hour=%{x}<br>Agent_Count=%{y}\", \"legendgroup\": \"\", \"line\": {\"color\": \"#636efa\", \"dash\": \"solid\"}, \"mode\": \"lines\", \"name\": \"\", \"showlegend\": false, \"type\": \"scatter\", \"x\": [0, 1, 2, 3, 4, 5, 6, 7, 20, 21, 22, 23], \"xaxis\": \"x\", \"y\": [176, 179, 186, 201, 188, 201, 165, 109, 39, 83, 191, 174], \"yaxis\": \"y\"}],\n",
              "                        {\"legend\": {\"tracegroupgap\": 0}, \"template\": {\"data\": {\"bar\": [{\"error_x\": {\"color\": \"#2a3f5f\"}, \"error_y\": {\"color\": \"#2a3f5f\"}, \"marker\": {\"line\": {\"color\": \"#E5ECF6\", \"width\": 0.5}}, \"type\": \"bar\"}], \"barpolar\": [{\"marker\": {\"line\": {\"color\": \"#E5ECF6\", \"width\": 0.5}}, \"type\": \"barpolar\"}], \"carpet\": [{\"aaxis\": {\"endlinecolor\": \"#2a3f5f\", \"gridcolor\": \"white\", \"linecolor\": \"white\", \"minorgridcolor\": \"white\", \"startlinecolor\": \"#2a3f5f\"}, \"baxis\": {\"endlinecolor\": \"#2a3f5f\", \"gridcolor\": \"white\", \"linecolor\": \"white\", \"minorgridcolor\": \"white\", \"startlinecolor\": \"#2a3f5f\"}, \"type\": \"carpet\"}], \"choropleth\": [{\"colorbar\": {\"outlinewidth\": 0, \"ticks\": \"\"}, \"type\": \"choropleth\"}], \"contour\": [{\"colorbar\": {\"outlinewidth\": 0, \"ticks\": \"\"}, \"colorscale\": [[0.0, \"#0d0887\"], [0.1111111111111111, \"#46039f\"], [0.2222222222222222, \"#7201a8\"], [0.3333333333333333, \"#9c179e\"], [0.4444444444444444, \"#bd3786\"], [0.5555555555555556, \"#d8576b\"], [0.6666666666666666, \"#ed7953\"], [0.7777777777777778, \"#fb9f3a\"], [0.8888888888888888, \"#fdca26\"], [1.0, \"#f0f921\"]], \"type\": \"contour\"}], \"contourcarpet\": [{\"colorbar\": {\"outlinewidth\": 0, \"ticks\": \"\"}, \"type\": \"contourcarpet\"}], \"heatmap\": [{\"colorbar\": {\"outlinewidth\": 0, \"ticks\": \"\"}, \"colorscale\": [[0.0, \"#0d0887\"], [0.1111111111111111, \"#46039f\"], [0.2222222222222222, \"#7201a8\"], [0.3333333333333333, \"#9c179e\"], [0.4444444444444444, \"#bd3786\"], [0.5555555555555556, \"#d8576b\"], [0.6666666666666666, \"#ed7953\"], [0.7777777777777778, \"#fb9f3a\"], [0.8888888888888888, \"#fdca26\"], [1.0, \"#f0f921\"]], \"type\": \"heatmap\"}], \"heatmapgl\": [{\"colorbar\": {\"outlinewidth\": 0, \"ticks\": \"\"}, \"colorscale\": [[0.0, \"#0d0887\"], [0.1111111111111111, \"#46039f\"], [0.2222222222222222, \"#7201a8\"], [0.3333333333333333, \"#9c179e\"], [0.4444444444444444, \"#bd3786\"], [0.5555555555555556, \"#d8576b\"], [0.6666666666666666, \"#ed7953\"], [0.7777777777777778, \"#fb9f3a\"], [0.8888888888888888, \"#fdca26\"], [1.0, \"#f0f921\"]], \"type\": \"heatmapgl\"}], \"histogram\": [{\"marker\": {\"colorbar\": {\"outlinewidth\": 0, \"ticks\": \"\"}}, \"type\": \"histogram\"}], \"histogram2d\": [{\"colorbar\": {\"outlinewidth\": 0, \"ticks\": \"\"}, \"colorscale\": [[0.0, \"#0d0887\"], [0.1111111111111111, \"#46039f\"], [0.2222222222222222, \"#7201a8\"], [0.3333333333333333, \"#9c179e\"], [0.4444444444444444, \"#bd3786\"], [0.5555555555555556, \"#d8576b\"], [0.6666666666666666, \"#ed7953\"], [0.7777777777777778, \"#fb9f3a\"], [0.8888888888888888, \"#fdca26\"], [1.0, \"#f0f921\"]], \"type\": \"histogram2d\"}], \"histogram2dcontour\": [{\"colorbar\": {\"outlinewidth\": 0, \"ticks\": \"\"}, \"colorscale\": [[0.0, \"#0d0887\"], [0.1111111111111111, \"#46039f\"], [0.2222222222222222, \"#7201a8\"], [0.3333333333333333, \"#9c179e\"], [0.4444444444444444, \"#bd3786\"], [0.5555555555555556, \"#d8576b\"], [0.6666666666666666, \"#ed7953\"], [0.7777777777777778, \"#fb9f3a\"], [0.8888888888888888, \"#fdca26\"], [1.0, \"#f0f921\"]], \"type\": \"histogram2dcontour\"}], \"mesh3d\": [{\"colorbar\": {\"outlinewidth\": 0, \"ticks\": \"\"}, \"type\": \"mesh3d\"}], \"parcoords\": [{\"line\": {\"colorbar\": {\"outlinewidth\": 0, \"ticks\": \"\"}}, \"type\": \"parcoords\"}], \"pie\": [{\"automargin\": true, \"type\": \"pie\"}], \"scatter\": [{\"marker\": {\"colorbar\": {\"outlinewidth\": 0, \"ticks\": \"\"}}, \"type\": \"scatter\"}], \"scatter3d\": [{\"line\": {\"colorbar\": {\"outlinewidth\": 0, \"ticks\": \"\"}}, \"marker\": {\"colorbar\": {\"outlinewidth\": 0, \"ticks\": \"\"}}, \"type\": \"scatter3d\"}], \"scattercarpet\": [{\"marker\": {\"colorbar\": {\"outlinewidth\": 0, \"ticks\": \"\"}}, \"type\": \"scattercarpet\"}], \"scattergeo\": [{\"marker\": {\"colorbar\": {\"outlinewidth\": 0, \"ticks\": \"\"}}, \"type\": \"scattergeo\"}], \"scattergl\": [{\"marker\": {\"colorbar\": {\"outlinewidth\": 0, \"ticks\": \"\"}}, \"type\": \"scattergl\"}], \"scattermapbox\": [{\"marker\": {\"colorbar\": {\"outlinewidth\": 0, \"ticks\": \"\"}}, \"type\": \"scattermapbox\"}], \"scatterpolar\": [{\"marker\": {\"colorbar\": {\"outlinewidth\": 0, \"ticks\": \"\"}}, \"type\": \"scatterpolar\"}], \"scatterpolargl\": [{\"marker\": {\"colorbar\": {\"outlinewidth\": 0, \"ticks\": \"\"}}, \"type\": \"scatterpolargl\"}], \"scatterternary\": [{\"marker\": {\"colorbar\": {\"outlinewidth\": 0, \"ticks\": \"\"}}, \"type\": \"scatterternary\"}], \"surface\": [{\"colorbar\": {\"outlinewidth\": 0, \"ticks\": \"\"}, \"colorscale\": [[0.0, \"#0d0887\"], [0.1111111111111111, \"#46039f\"], [0.2222222222222222, \"#7201a8\"], [0.3333333333333333, \"#9c179e\"], [0.4444444444444444, \"#bd3786\"], [0.5555555555555556, \"#d8576b\"], [0.6666666666666666, \"#ed7953\"], [0.7777777777777778, \"#fb9f3a\"], [0.8888888888888888, \"#fdca26\"], [1.0, \"#f0f921\"]], \"type\": \"surface\"}], \"table\": [{\"cells\": {\"fill\": {\"color\": \"#EBF0F8\"}, \"line\": {\"color\": \"white\"}}, \"header\": {\"fill\": {\"color\": \"#C8D4E3\"}, \"line\": {\"color\": \"white\"}}, \"type\": \"table\"}]}, \"layout\": {\"annotationdefaults\": {\"arrowcolor\": \"#2a3f5f\", \"arrowhead\": 0, \"arrowwidth\": 1}, \"coloraxis\": {\"colorbar\": {\"outlinewidth\": 0, \"ticks\": \"\"}}, \"colorscale\": {\"diverging\": [[0, \"#8e0152\"], [0.1, \"#c51b7d\"], [0.2, \"#de77ae\"], [0.3, \"#f1b6da\"], [0.4, \"#fde0ef\"], [0.5, \"#f7f7f7\"], [0.6, \"#e6f5d0\"], [0.7, \"#b8e186\"], [0.8, \"#7fbc41\"], [0.9, \"#4d9221\"], [1, \"#276419\"]], \"sequential\": [[0.0, \"#0d0887\"], [0.1111111111111111, \"#46039f\"], [0.2222222222222222, \"#7201a8\"], [0.3333333333333333, \"#9c179e\"], [0.4444444444444444, \"#bd3786\"], [0.5555555555555556, \"#d8576b\"], [0.6666666666666666, \"#ed7953\"], [0.7777777777777778, \"#fb9f3a\"], [0.8888888888888888, \"#fdca26\"], [1.0, \"#f0f921\"]], \"sequentialminus\": [[0.0, \"#0d0887\"], [0.1111111111111111, \"#46039f\"], [0.2222222222222222, \"#7201a8\"], [0.3333333333333333, \"#9c179e\"], [0.4444444444444444, \"#bd3786\"], [0.5555555555555556, \"#d8576b\"], [0.6666666666666666, \"#ed7953\"], [0.7777777777777778, \"#fb9f3a\"], [0.8888888888888888, \"#fdca26\"], [1.0, \"#f0f921\"]]}, \"colorway\": [\"#636efa\", \"#EF553B\", \"#00cc96\", \"#ab63fa\", \"#FFA15A\", \"#19d3f3\", \"#FF6692\", \"#B6E880\", \"#FF97FF\", \"#FECB52\"], \"font\": {\"color\": \"#2a3f5f\"}, \"geo\": {\"bgcolor\": \"white\", \"lakecolor\": \"white\", \"landcolor\": \"#E5ECF6\", \"showlakes\": true, \"showland\": true, \"subunitcolor\": \"white\"}, \"hoverlabel\": {\"align\": \"left\"}, \"hovermode\": \"closest\", \"mapbox\": {\"style\": \"light\"}, \"paper_bgcolor\": \"white\", \"plot_bgcolor\": \"#E5ECF6\", \"polar\": {\"angularaxis\": {\"gridcolor\": \"white\", \"linecolor\": \"white\", \"ticks\": \"\"}, \"bgcolor\": \"#E5ECF6\", \"radialaxis\": {\"gridcolor\": \"white\", \"linecolor\": \"white\", \"ticks\": \"\"}}, \"scene\": {\"xaxis\": {\"backgroundcolor\": \"#E5ECF6\", \"gridcolor\": \"white\", \"gridwidth\": 2, \"linecolor\": \"white\", \"showbackground\": true, \"ticks\": \"\", \"zerolinecolor\": \"white\"}, \"yaxis\": {\"backgroundcolor\": \"#E5ECF6\", \"gridcolor\": \"white\", \"gridwidth\": 2, \"linecolor\": \"white\", \"showbackground\": true, \"ticks\": \"\", \"zerolinecolor\": \"white\"}, \"zaxis\": {\"backgroundcolor\": \"#E5ECF6\", \"gridcolor\": \"white\", \"gridwidth\": 2, \"linecolor\": \"white\", \"showbackground\": true, \"ticks\": \"\", \"zerolinecolor\": \"white\"}}, \"shapedefaults\": {\"line\": {\"color\": \"#2a3f5f\"}}, \"ternary\": {\"aaxis\": {\"gridcolor\": \"white\", \"linecolor\": \"white\", \"ticks\": \"\"}, \"baxis\": {\"gridcolor\": \"white\", \"linecolor\": \"white\", \"ticks\": \"\"}, \"bgcolor\": \"#E5ECF6\", \"caxis\": {\"gridcolor\": \"white\", \"linecolor\": \"white\", \"ticks\": \"\"}}, \"title\": {\"x\": 0.05}, \"xaxis\": {\"automargin\": true, \"gridcolor\": \"white\", \"linecolor\": \"white\", \"ticks\": \"\", \"title\": {\"standoff\": 15}, \"zerolinecolor\": \"white\", \"zerolinewidth\": 2}, \"yaxis\": {\"automargin\": true, \"gridcolor\": \"white\", \"linecolor\": \"white\", \"ticks\": \"\", \"title\": {\"standoff\": 15}, \"zerolinecolor\": \"white\", \"zerolinewidth\": 2}}}, \"title\": {\"text\": \"Start time: 2021-08-14 20:30 End Time: 2021-08-28 20:30\"}, \"xaxis\": {\"anchor\": \"y\", \"domain\": [0.0, 1.0], \"title\": {\"text\": \"Hour\"}}, \"yaxis\": {\"anchor\": \"x\", \"domain\": [0.0, 1.0], \"title\": {\"text\": \"Agent_Count\"}}},\n",
              "                        {\"responsive\": true}\n",
              "                    ).then(function(){\n",
              "                            \n",
              "var gd = document.getElementById('49d3c0b0-cc91-409d-a08a-f75b24dc702f');\n",
              "var x = new MutationObserver(function (mutations, observer) {{\n",
              "        var display = window.getComputedStyle(gd).display;\n",
              "        if (!display || display === 'none') {{\n",
              "            console.log([gd, 'removed!']);\n",
              "            Plotly.purge(gd);\n",
              "            observer.disconnect();\n",
              "        }}\n",
              "}});\n",
              "\n",
              "// Listen for the removal of the full notebook cells\n",
              "var notebookContainer = gd.closest('#notebook-container');\n",
              "if (notebookContainer) {{\n",
              "    x.observe(notebookContainer, {childList: true});\n",
              "}}\n",
              "\n",
              "// Listen for the clearing of the current output cell\n",
              "var outputEl = gd.closest('.output');\n",
              "if (outputEl) {{\n",
              "    x.observe(outputEl, {childList: true});\n",
              "}}\n",
              "\n",
              "                        })\n",
              "                };\n",
              "                \n",
              "            </script>\n",
              "        </div>\n",
              "</body>\n",
              "</html>"
            ]
          },
          "metadata": {}
        }
      ]
    },
    {
      "cell_type": "code",
      "metadata": {
        "colab": {
          "base_uri": "https://localhost:8080/",
          "height": 579
        },
        "id": "NCTd252BH0dK",
        "outputId": "ad2f0a49-cac9-4a74-c05c-333ebcf05630"
      },
      "source": [
        "#2nd Graph\n",
        "agents_filtered=agents.iloc[:1000]\n",
        "column_bar=input('Column to Visualize (interaction.totalDurationSec/interaction.talkingDurationSec/interaction.onHoldDurationSec/interaction.onMuteDurationSec): ')\n",
        "agents_filtered=agents_filtered.sort_values(by=column_bar,ascending=True)\n",
        "agents_filtered=agents_filtered.iloc[:35]\n",
        "fig = px.bar(agents_filtered, x='username', y=column_bar, title='35 Agents based on least seconds spent on the call values of column: '+column_bar)\n",
        "fig.write_html(\"Metrics Visualization for different Agents Session.html\")\n",
        "fig.show()"
      ],
      "execution_count": null,
      "outputs": [
        {
          "name": "stdout",
          "output_type": "stream",
          "text": [
            "Column to Visualize (interaction.totalDurationSec/interaction.talkingDurationSec/interaction.onHoldDurationSec/interaction.onMuteDurationSec): interaction.talkingDurationSec\n"
          ]
        },
        {
          "output_type": "display_data",
          "data": {
            "text/html": [
              "<html>\n",
              "<head><meta charset=\"utf-8\" /></head>\n",
              "<body>\n",
              "    <div>\n",
              "            <script src=\"https://cdnjs.cloudflare.com/ajax/libs/mathjax/2.7.5/MathJax.js?config=TeX-AMS-MML_SVG\"></script><script type=\"text/javascript\">if (window.MathJax) {MathJax.Hub.Config({SVG: {font: \"STIX-Web\"}});}</script>\n",
              "                <script type=\"text/javascript\">window.PlotlyConfig = {MathJaxConfig: 'local'};</script>\n",
              "        <script src=\"https://cdn.plot.ly/plotly-latest.min.js\"></script>    \n",
              "            <div id=\"ec7d09d4-5163-42b1-9a07-9d760272a7c3\" class=\"plotly-graph-div\" style=\"height:525px; width:100%;\"></div>\n",
              "            <script type=\"text/javascript\">\n",
              "                \n",
              "                    window.PLOTLYENV=window.PLOTLYENV || {};\n",
              "                    \n",
              "                if (document.getElementById(\"ec7d09d4-5163-42b1-9a07-9d760272a7c3\")) {\n",
              "                    Plotly.newPlot(\n",
              "                        'ec7d09d4-5163-42b1-9a07-9d760272a7c3',\n",
              "                        [{\"alignmentgroup\": \"True\", \"hoverlabel\": {\"namelength\": 0}, \"hovertemplate\": \"username=%{x}<br>interaction.talkingDurationSec=%{y}\", \"legendgroup\": \"\", \"marker\": {\"color\": \"#636efa\"}, \"name\": \"\", \"offsetgroup\": \"\", \"orientation\": \"v\", \"showlegend\": false, \"textposition\": \"auto\", \"type\": \"bar\", \"x\": [\"Travon.Green\", \"Reinhold.Walter\", \"Deborah.Runte\", \"Garrison.Marks\", \"Ali.Harris\", \"Napoleon.Hermann\", \"Alverta.Nikolaus\", \"Prudence.Schumm\", \"Camron.Kohler\", \"Leopoldo.Vandervort\", \"Dan.Jerde\", \"Dalton.Hayes\", \"Clemens.Blanda\", \"Ressie.Volkman\", \"Orland.Bauch\", \"Trinity.Towne\", \"Issac.Schmitt\", \"Natalie.Bartell\", \"Waylon.Haley\", \"Hassie.Lindgren\", \"Faustino.Mohr\", \"Heidi.Kub\", \"Tyree.Weissnat\", \"Westley.Orn\", \"Letha.Bartell\", \"Deven.Kirlin\", \"Trace.Kunde\", \"Krista.Ortiz\", \"Kobe.Nolan\", \"Jerry.Cassin\", \"Chadrick.Pacocha\", \"Myrtice.Bashirian\", \"Winston.Olson\", \"Coty.Thompson\", \"Karlee.Abshire\"], \"xaxis\": \"x\", \"y\": [0, 1, 3, 4, 5, 6, 7, 7, 7, 9, 12, 16, 17, 18, 22, 23, 25, 26, 27, 27, 28, 29, 31, 34, 36, 36, 37, 38, 39, 40, 41, 41, 44, 48, 49], \"yaxis\": \"y\"}],\n",
              "                        {\"barmode\": \"relative\", \"legend\": {\"tracegroupgap\": 0}, \"template\": {\"data\": {\"bar\": [{\"error_x\": {\"color\": \"#2a3f5f\"}, \"error_y\": {\"color\": \"#2a3f5f\"}, \"marker\": {\"line\": {\"color\": \"#E5ECF6\", \"width\": 0.5}}, \"type\": \"bar\"}], \"barpolar\": [{\"marker\": {\"line\": {\"color\": \"#E5ECF6\", \"width\": 0.5}}, \"type\": \"barpolar\"}], \"carpet\": [{\"aaxis\": {\"endlinecolor\": \"#2a3f5f\", \"gridcolor\": \"white\", \"linecolor\": \"white\", \"minorgridcolor\": \"white\", \"startlinecolor\": \"#2a3f5f\"}, \"baxis\": {\"endlinecolor\": \"#2a3f5f\", \"gridcolor\": \"white\", \"linecolor\": \"white\", \"minorgridcolor\": \"white\", \"startlinecolor\": \"#2a3f5f\"}, \"type\": \"carpet\"}], \"choropleth\": [{\"colorbar\": {\"outlinewidth\": 0, \"ticks\": \"\"}, \"type\": \"choropleth\"}], \"contour\": [{\"colorbar\": {\"outlinewidth\": 0, \"ticks\": \"\"}, \"colorscale\": [[0.0, \"#0d0887\"], [0.1111111111111111, \"#46039f\"], [0.2222222222222222, \"#7201a8\"], [0.3333333333333333, \"#9c179e\"], [0.4444444444444444, \"#bd3786\"], [0.5555555555555556, \"#d8576b\"], [0.6666666666666666, \"#ed7953\"], [0.7777777777777778, \"#fb9f3a\"], [0.8888888888888888, \"#fdca26\"], [1.0, \"#f0f921\"]], \"type\": \"contour\"}], \"contourcarpet\": [{\"colorbar\": {\"outlinewidth\": 0, \"ticks\": \"\"}, \"type\": \"contourcarpet\"}], \"heatmap\": [{\"colorbar\": {\"outlinewidth\": 0, \"ticks\": \"\"}, \"colorscale\": [[0.0, \"#0d0887\"], [0.1111111111111111, \"#46039f\"], [0.2222222222222222, \"#7201a8\"], [0.3333333333333333, \"#9c179e\"], [0.4444444444444444, \"#bd3786\"], [0.5555555555555556, \"#d8576b\"], [0.6666666666666666, \"#ed7953\"], [0.7777777777777778, \"#fb9f3a\"], [0.8888888888888888, \"#fdca26\"], [1.0, \"#f0f921\"]], \"type\": \"heatmap\"}], \"heatmapgl\": [{\"colorbar\": {\"outlinewidth\": 0, \"ticks\": \"\"}, \"colorscale\": [[0.0, \"#0d0887\"], [0.1111111111111111, \"#46039f\"], [0.2222222222222222, \"#7201a8\"], [0.3333333333333333, \"#9c179e\"], [0.4444444444444444, \"#bd3786\"], [0.5555555555555556, \"#d8576b\"], [0.6666666666666666, \"#ed7953\"], [0.7777777777777778, \"#fb9f3a\"], [0.8888888888888888, \"#fdca26\"], [1.0, \"#f0f921\"]], \"type\": \"heatmapgl\"}], \"histogram\": [{\"marker\": {\"colorbar\": {\"outlinewidth\": 0, \"ticks\": \"\"}}, \"type\": \"histogram\"}], \"histogram2d\": [{\"colorbar\": {\"outlinewidth\": 0, \"ticks\": \"\"}, \"colorscale\": [[0.0, \"#0d0887\"], [0.1111111111111111, \"#46039f\"], [0.2222222222222222, \"#7201a8\"], [0.3333333333333333, \"#9c179e\"], [0.4444444444444444, \"#bd3786\"], [0.5555555555555556, \"#d8576b\"], [0.6666666666666666, \"#ed7953\"], [0.7777777777777778, \"#fb9f3a\"], [0.8888888888888888, \"#fdca26\"], [1.0, \"#f0f921\"]], \"type\": \"histogram2d\"}], \"histogram2dcontour\": [{\"colorbar\": {\"outlinewidth\": 0, \"ticks\": \"\"}, \"colorscale\": [[0.0, \"#0d0887\"], [0.1111111111111111, \"#46039f\"], [0.2222222222222222, \"#7201a8\"], [0.3333333333333333, \"#9c179e\"], [0.4444444444444444, \"#bd3786\"], [0.5555555555555556, \"#d8576b\"], [0.6666666666666666, \"#ed7953\"], [0.7777777777777778, \"#fb9f3a\"], [0.8888888888888888, \"#fdca26\"], [1.0, \"#f0f921\"]], \"type\": \"histogram2dcontour\"}], \"mesh3d\": [{\"colorbar\": {\"outlinewidth\": 0, \"ticks\": \"\"}, \"type\": \"mesh3d\"}], \"parcoords\": [{\"line\": {\"colorbar\": {\"outlinewidth\": 0, \"ticks\": \"\"}}, \"type\": \"parcoords\"}], \"pie\": [{\"automargin\": true, \"type\": \"pie\"}], \"scatter\": [{\"marker\": {\"colorbar\": {\"outlinewidth\": 0, \"ticks\": \"\"}}, \"type\": \"scatter\"}], \"scatter3d\": [{\"line\": {\"colorbar\": {\"outlinewidth\": 0, \"ticks\": \"\"}}, \"marker\": {\"colorbar\": {\"outlinewidth\": 0, \"ticks\": \"\"}}, \"type\": \"scatter3d\"}], \"scattercarpet\": [{\"marker\": {\"colorbar\": {\"outlinewidth\": 0, \"ticks\": \"\"}}, \"type\": \"scattercarpet\"}], \"scattergeo\": [{\"marker\": {\"colorbar\": {\"outlinewidth\": 0, \"ticks\": \"\"}}, \"type\": \"scattergeo\"}], \"scattergl\": [{\"marker\": {\"colorbar\": {\"outlinewidth\": 0, \"ticks\": \"\"}}, \"type\": \"scattergl\"}], \"scattermapbox\": [{\"marker\": {\"colorbar\": {\"outlinewidth\": 0, \"ticks\": \"\"}}, \"type\": \"scattermapbox\"}], \"scatterpolar\": [{\"marker\": {\"colorbar\": {\"outlinewidth\": 0, \"ticks\": \"\"}}, \"type\": \"scatterpolar\"}], \"scatterpolargl\": [{\"marker\": {\"colorbar\": {\"outlinewidth\": 0, \"ticks\": \"\"}}, \"type\": \"scatterpolargl\"}], \"scatterternary\": [{\"marker\": {\"colorbar\": {\"outlinewidth\": 0, \"ticks\": \"\"}}, \"type\": \"scatterternary\"}], \"surface\": [{\"colorbar\": {\"outlinewidth\": 0, \"ticks\": \"\"}, \"colorscale\": [[0.0, \"#0d0887\"], [0.1111111111111111, \"#46039f\"], [0.2222222222222222, \"#7201a8\"], [0.3333333333333333, \"#9c179e\"], [0.4444444444444444, \"#bd3786\"], [0.5555555555555556, \"#d8576b\"], [0.6666666666666666, \"#ed7953\"], [0.7777777777777778, \"#fb9f3a\"], [0.8888888888888888, \"#fdca26\"], [1.0, \"#f0f921\"]], \"type\": \"surface\"}], \"table\": [{\"cells\": {\"fill\": {\"color\": \"#EBF0F8\"}, \"line\": {\"color\": \"white\"}}, \"header\": {\"fill\": {\"color\": \"#C8D4E3\"}, \"line\": {\"color\": \"white\"}}, \"type\": \"table\"}]}, \"layout\": {\"annotationdefaults\": {\"arrowcolor\": \"#2a3f5f\", \"arrowhead\": 0, \"arrowwidth\": 1}, \"coloraxis\": {\"colorbar\": {\"outlinewidth\": 0, \"ticks\": \"\"}}, \"colorscale\": {\"diverging\": [[0, \"#8e0152\"], [0.1, \"#c51b7d\"], [0.2, \"#de77ae\"], [0.3, \"#f1b6da\"], [0.4, \"#fde0ef\"], [0.5, \"#f7f7f7\"], [0.6, \"#e6f5d0\"], [0.7, \"#b8e186\"], [0.8, \"#7fbc41\"], [0.9, \"#4d9221\"], [1, \"#276419\"]], \"sequential\": [[0.0, \"#0d0887\"], [0.1111111111111111, \"#46039f\"], [0.2222222222222222, \"#7201a8\"], [0.3333333333333333, \"#9c179e\"], [0.4444444444444444, \"#bd3786\"], [0.5555555555555556, \"#d8576b\"], [0.6666666666666666, \"#ed7953\"], [0.7777777777777778, \"#fb9f3a\"], [0.8888888888888888, \"#fdca26\"], [1.0, \"#f0f921\"]], \"sequentialminus\": [[0.0, \"#0d0887\"], [0.1111111111111111, \"#46039f\"], [0.2222222222222222, \"#7201a8\"], [0.3333333333333333, \"#9c179e\"], [0.4444444444444444, \"#bd3786\"], [0.5555555555555556, \"#d8576b\"], [0.6666666666666666, \"#ed7953\"], [0.7777777777777778, \"#fb9f3a\"], [0.8888888888888888, \"#fdca26\"], [1.0, \"#f0f921\"]]}, \"colorway\": [\"#636efa\", \"#EF553B\", \"#00cc96\", \"#ab63fa\", \"#FFA15A\", \"#19d3f3\", \"#FF6692\", \"#B6E880\", \"#FF97FF\", \"#FECB52\"], \"font\": {\"color\": \"#2a3f5f\"}, \"geo\": {\"bgcolor\": \"white\", \"lakecolor\": \"white\", \"landcolor\": \"#E5ECF6\", \"showlakes\": true, \"showland\": true, \"subunitcolor\": \"white\"}, \"hoverlabel\": {\"align\": \"left\"}, \"hovermode\": \"closest\", \"mapbox\": {\"style\": \"light\"}, \"paper_bgcolor\": \"white\", \"plot_bgcolor\": \"#E5ECF6\", \"polar\": {\"angularaxis\": {\"gridcolor\": \"white\", \"linecolor\": \"white\", \"ticks\": \"\"}, \"bgcolor\": \"#E5ECF6\", \"radialaxis\": {\"gridcolor\": \"white\", \"linecolor\": \"white\", \"ticks\": \"\"}}, \"scene\": {\"xaxis\": {\"backgroundcolor\": \"#E5ECF6\", \"gridcolor\": \"white\", \"gridwidth\": 2, \"linecolor\": \"white\", \"showbackground\": true, \"ticks\": \"\", \"zerolinecolor\": \"white\"}, \"yaxis\": {\"backgroundcolor\": \"#E5ECF6\", \"gridcolor\": \"white\", \"gridwidth\": 2, \"linecolor\": \"white\", \"showbackground\": true, \"ticks\": \"\", \"zerolinecolor\": \"white\"}, \"zaxis\": {\"backgroundcolor\": \"#E5ECF6\", \"gridcolor\": \"white\", \"gridwidth\": 2, \"linecolor\": \"white\", \"showbackground\": true, \"ticks\": \"\", \"zerolinecolor\": \"white\"}}, \"shapedefaults\": {\"line\": {\"color\": \"#2a3f5f\"}}, \"ternary\": {\"aaxis\": {\"gridcolor\": \"white\", \"linecolor\": \"white\", \"ticks\": \"\"}, \"baxis\": {\"gridcolor\": \"white\", \"linecolor\": \"white\", \"ticks\": \"\"}, \"bgcolor\": \"#E5ECF6\", \"caxis\": {\"gridcolor\": \"white\", \"linecolor\": \"white\", \"ticks\": \"\"}}, \"title\": {\"x\": 0.05}, \"xaxis\": {\"automargin\": true, \"gridcolor\": \"white\", \"linecolor\": \"white\", \"ticks\": \"\", \"title\": {\"standoff\": 15}, \"zerolinecolor\": \"white\", \"zerolinewidth\": 2}, \"yaxis\": {\"automargin\": true, \"gridcolor\": \"white\", \"linecolor\": \"white\", \"ticks\": \"\", \"title\": {\"standoff\": 15}, \"zerolinecolor\": \"white\", \"zerolinewidth\": 2}}}, \"title\": {\"text\": \"35 Agents based on least seconds spent on the call values of column: interaction.talkingDurationSec\"}, \"xaxis\": {\"anchor\": \"y\", \"domain\": [0.0, 1.0], \"title\": {\"text\": \"username\"}}, \"yaxis\": {\"anchor\": \"x\", \"domain\": [0.0, 1.0], \"title\": {\"text\": \"interaction.talkingDurationSec\"}}},\n",
              "                        {\"responsive\": true}\n",
              "                    ).then(function(){\n",
              "                            \n",
              "var gd = document.getElementById('ec7d09d4-5163-42b1-9a07-9d760272a7c3');\n",
              "var x = new MutationObserver(function (mutations, observer) {{\n",
              "        var display = window.getComputedStyle(gd).display;\n",
              "        if (!display || display === 'none') {{\n",
              "            console.log([gd, 'removed!']);\n",
              "            Plotly.purge(gd);\n",
              "            observer.disconnect();\n",
              "        }}\n",
              "}});\n",
              "\n",
              "// Listen for the removal of the full notebook cells\n",
              "var notebookContainer = gd.closest('#notebook-container');\n",
              "if (notebookContainer) {{\n",
              "    x.observe(notebookContainer, {childList: true});\n",
              "}}\n",
              "\n",
              "// Listen for the clearing of the current output cell\n",
              "var outputEl = gd.closest('.output');\n",
              "if (outputEl) {{\n",
              "    x.observe(outputEl, {childList: true});\n",
              "}}\n",
              "\n",
              "                        })\n",
              "                };\n",
              "                \n",
              "            </script>\n",
              "        </div>\n",
              "</body>\n",
              "</html>"
            ]
          },
          "metadata": {}
        }
      ]
    }
  ]
}